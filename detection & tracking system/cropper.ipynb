{
 "cells": [
  {
   "cell_type": "code",
   "execution_count": 1,
   "metadata": {
    "ExecuteTime": {
     "end_time": "2020-12-24T14:31:30.079606Z",
     "start_time": "2020-12-24T14:31:29.661039Z"
    }
   },
   "outputs": [],
   "source": [
    "import numpy as np\n",
    "import pandas as pd"
   ]
  },
  {
   "cell_type": "code",
   "execution_count": 2,
   "metadata": {
    "ExecuteTime": {
     "end_time": "2020-12-24T14:31:30.111520Z",
     "start_time": "2020-12-24T14:31:30.080602Z"
    }
   },
   "outputs": [],
   "source": [
    "import cv2\n",
    "import numpy as np\n",
    "import os\n",
    "import PIL"
   ]
  },
  {
   "cell_type": "code",
   "execution_count": 15,
   "metadata": {
    "ExecuteTime": {
     "end_time": "2020-12-24T14:35:58.806569Z",
     "start_time": "2020-12-24T14:35:58.791608Z"
    }
   },
   "outputs": [],
   "source": [
    "color_images = \"C://Users//hp//Desktop//Research_intern_iitd//color_new\"\n",
    "color_crop =  \"C://Users//hp//Desktop//Research_intern_iitd//color_crop\"\n",
    "config = \"C://Users//hp//Desktop//Research_intern_iitd/yolo//config.cfg\"\n",
    "weights =  \"C://Users//hp//Desktop//Research_intern_iitd/yolo//weightss.weights\"\n",
    "classes = ['fish']"
   ]
  },
  {
   "cell_type": "code",
   "execution_count": 4,
   "metadata": {
    "ExecuteTime": {
     "end_time": "2020-12-24T14:31:30.142828Z",
     "start_time": "2020-12-24T14:31:30.127866Z"
    }
   },
   "outputs": [],
   "source": [
    "def load_color(folder):\n",
    "    images = []\n",
    "    for filename in os.listdir(folder):\n",
    "        #img = os.path.join(folder,filename)\n",
    "        img = folder+'//'+filename\n",
    "        if img is not None:\n",
    "            images.append(img)\n",
    "    return images"
   ]
  },
  {
   "cell_type": "code",
   "execution_count": 5,
   "metadata": {
    "ExecuteTime": {
     "end_time": "2020-12-24T14:31:30.157831Z",
     "start_time": "2020-12-24T14:31:30.143825Z"
    }
   },
   "outputs": [],
   "source": [
    "colorimage = load_color(color_images)"
   ]
  },
  {
   "cell_type": "code",
   "execution_count": 6,
   "metadata": {
    "ExecuteTime": {
     "end_time": "2020-12-24T14:31:30.172791Z",
     "start_time": "2020-12-24T14:31:30.158828Z"
    }
   },
   "outputs": [
    {
     "name": "stdout",
     "output_type": "stream",
     "text": [
      "C://Users//hp//Desktop//Research_intern_iitd//color_new//0000.jpg\n"
     ]
    }
   ],
   "source": [
    "print(colorimage[0])"
   ]
  },
  {
   "cell_type": "code",
   "execution_count": 7,
   "metadata": {
    "ExecuteTime": {
     "end_time": "2020-12-24T14:31:30.188749Z",
     "start_time": "2020-12-24T14:31:30.174785Z"
    }
   },
   "outputs": [],
   "source": [
    "cnt = 0\n",
    "for im_path in colorimage:\n",
    "    #full_im = cv2.imread(im_path)\n",
    "    #crop_im = full_im[290:660,600:1640]\n",
    "    x = cnt\n",
    "    suffix=str(x).zfill(4)\n",
    "    #print(suffix)\n",
    "    #cv2.imwrite(\"C:/Users/hp/Desktop/Research_intern_iitd/color_crop/{}.jpg\".format(suffix),crop_im)\n",
    "    cnt+=1"
   ]
  },
  {
   "cell_type": "code",
   "execution_count": 8,
   "metadata": {
    "ExecuteTime": {
     "end_time": "2020-12-24T14:31:30.283496Z",
     "start_time": "2020-12-24T14:31:30.190745Z"
    }
   },
   "outputs": [
    {
     "ename": "TypeError",
     "evalue": "'NoneType' object is not subscriptable",
     "output_type": "error",
     "traceback": [
      "\u001b[1;31m---------------------------------------------------------------------------\u001b[0m",
      "\u001b[1;31mTypeError\u001b[0m                                 Traceback (most recent call last)",
      "\u001b[1;32m<ipython-input-8-57af80866a7d>\u001b[0m in \u001b[0;36m<module>\u001b[1;34m\u001b[0m\n\u001b[0;32m      1\u001b[0m \u001b[0mfull_im\u001b[0m \u001b[1;33m=\u001b[0m \u001b[0mcv2\u001b[0m\u001b[1;33m.\u001b[0m\u001b[0mimread\u001b[0m\u001b[1;33m(\u001b[0m\u001b[0mcolor_images\u001b[0m\u001b[1;33m)\u001b[0m\u001b[1;33m\u001b[0m\u001b[1;33m\u001b[0m\u001b[0m\n\u001b[1;32m----> 2\u001b[1;33m \u001b[0mcrop_im\u001b[0m \u001b[1;33m=\u001b[0m \u001b[0mfull_im\u001b[0m\u001b[1;33m[\u001b[0m\u001b[1;36m290\u001b[0m\u001b[1;33m:\u001b[0m\u001b[1;36m660\u001b[0m\u001b[1;33m,\u001b[0m\u001b[1;36m600\u001b[0m\u001b[1;33m:\u001b[0m\u001b[1;36m1640\u001b[0m\u001b[1;33m]\u001b[0m\u001b[1;33m\u001b[0m\u001b[1;33m\u001b[0m\u001b[0m\n\u001b[0m\u001b[0;32m      3\u001b[0m \u001b[0mcv2\u001b[0m\u001b[1;33m.\u001b[0m\u001b[0mimshow\u001b[0m\u001b[1;33m(\u001b[0m\u001b[1;34m\"cropped\"\u001b[0m\u001b[1;33m,\u001b[0m \u001b[0mcrop_im\u001b[0m\u001b[1;33m)\u001b[0m\u001b[1;33m\u001b[0m\u001b[1;33m\u001b[0m\u001b[0m\n\u001b[0;32m      4\u001b[0m \u001b[0mcv2\u001b[0m\u001b[1;33m.\u001b[0m\u001b[0mwaitKey\u001b[0m\u001b[1;33m(\u001b[0m\u001b[1;36m0\u001b[0m\u001b[1;33m)\u001b[0m\u001b[1;33m\u001b[0m\u001b[1;33m\u001b[0m\u001b[0m\n",
      "\u001b[1;31mTypeError\u001b[0m: 'NoneType' object is not subscriptable"
     ]
    }
   ],
   "source": [
    "full_im = cv2.imread(color_images)\n",
    "crop_im = full_im[290:660,600:1640]\n",
    "cv2.imshow(\"cropped\", crop_im)\n",
    "cv2.waitKey(0)"
   ]
  },
  {
   "cell_type": "code",
   "execution_count": 9,
   "metadata": {
    "ExecuteTime": {
     "end_time": "2020-12-24T14:31:41.762311Z",
     "start_time": "2020-12-24T14:31:41.746353Z"
    }
   },
   "outputs": [],
   "source": [
    "cropimage = load_color(color_crop)"
   ]
  },
  {
   "cell_type": "code",
   "execution_count": 10,
   "metadata": {
    "ExecuteTime": {
     "end_time": "2020-12-24T14:31:43.481151Z",
     "start_time": "2020-12-24T14:31:43.459816Z"
    }
   },
   "outputs": [
    {
     "data": {
      "text/plain": [
       "'C://Users//hp//Desktop//Research_intern_iitd//color_crop//0000.jpg'"
      ]
     },
     "execution_count": 10,
     "metadata": {},
     "output_type": "execute_result"
    }
   ],
   "source": [
    "cropimage[0]"
   ]
  },
  {
   "cell_type": "code",
   "execution_count": 11,
   "metadata": {
    "ExecuteTime": {
     "end_time": "2020-12-24T14:31:46.438036Z",
     "start_time": "2020-12-24T14:31:46.423066Z"
    }
   },
   "outputs": [],
   "source": [
    "def get_output_layers(net):\n",
    "    \n",
    "    layer_names = net.getLayerNames()\n",
    "    \n",
    "    output_layers = [layer_names[i[0] - 1] for i in net.getUnconnectedOutLayers()]\n",
    "\n",
    "    return output_layers\n",
    "\n",
    "# function to draw bounding box on the detected object with class name\n",
    "def draw_bounding_box(img, class_id, confidence, x, y, x_plus_w, y_plus_h):\n",
    "\n",
    "    label = str(classes[class_id])\n",
    "\n",
    "    color = COLORS[class_id]\n",
    "\n",
    "    cv2.rectangle(img, (x,y), (x_plus_w,y_plus_h), color, 2)\n",
    "\n",
    "    cv2.putText(img, label, (x-10,y-10), cv2.FONT_HERSHEY_SIMPLEX, 0.5, color, 2)"
   ]
  },
  {
   "cell_type": "code",
   "execution_count": 27,
   "metadata": {
    "ExecuteTime": {
     "end_time": "2020-12-24T14:57:29.782225Z",
     "start_time": "2020-12-24T14:57:29.772735Z"
    }
   },
   "outputs": [],
   "source": [
    "fish = {'fish1':{'raw_x':[],'raw_y':[],'width':[],'height':[]},\n",
    "        'fish2':{'raw_x':[],'raw_y':[],'width':[],'height':[]},\n",
    "        'fish3':{'raw_x':[],'raw_y':[],'width':[],'height':[]},\n",
    "        'fish4':{'raw_x':[],'raw_y':[],'width':[],'height':[]},\n",
    "        'fish5':{'raw_x':[],'raw_y':[],'width':[],'height':[]},\n",
    "        'fish6':{'raw_x':[],'raw_y':[],'width':[],'height':[]},\n",
    "        'fish7':{'raw_x':[],'raw_y':[],'width':[],'height':[]},\n",
    "       }\n",
    "\n",
    "def func(cnt):\n",
    "    x = cnt+1\n",
    "    res = \"fish\" + str(x)\n",
    "    return res"
   ]
  },
  {
   "cell_type": "code",
   "execution_count": 28,
   "metadata": {
    "ExecuteTime": {
     "end_time": "2020-12-24T14:57:42.687268Z",
     "start_time": "2020-12-24T14:57:32.855870Z"
    }
   },
   "outputs": [
    {
     "name": "stdout",
     "output_type": "stream",
     "text": [
      "Zero Loop :  [7]\n",
      "Zero Loop :  [3]\n",
      "Zero Loop :  [1]\n",
      "Zero Loop :  [0]\n",
      "outer loop :  11\n",
      "inner loop :  7\n",
      "inner loop :  3\n",
      "inner loop :  1\n",
      "inner loop :  0\n",
      "outer loop :  6\n",
      "inner loop :  7\n",
      "inner loop :  3\n",
      "inner loop :  1\n",
      "inner loop :  0\n",
      "outer loop :  0\n",
      "inner loop :  7\n",
      "inner loop :  3\n",
      "inner loop :  1\n",
      "inner loop :  0\n",
      "outer loop :  8\n",
      "inner loop :  7\n",
      "inner loop :  3\n",
      "inner loop :  1\n",
      "inner loop :  0\n",
      "outer loop :  13\n",
      "inner loop :  7\n",
      "inner loop :  3\n",
      "inner loop :  1\n",
      "inner loop :  0\n",
      "outer loop :  11\n",
      "inner loop :  11\n",
      "inner loop :  6\n",
      "inner loop :  0\n",
      "inner loop :  8\n",
      "inner loop :  13\n",
      "outer loop :  6\n",
      "inner loop :  11\n",
      "inner loop :  6\n",
      "inner loop :  0\n",
      "inner loop :  8\n",
      "inner loop :  13\n",
      "outer loop :  0\n",
      "inner loop :  11\n",
      "inner loop :  6\n",
      "inner loop :  0\n",
      "inner loop :  8\n",
      "inner loop :  13\n",
      "outer loop :  8\n",
      "inner loop :  11\n",
      "inner loop :  6\n",
      "inner loop :  0\n",
      "inner loop :  8\n",
      "inner loop :  13\n",
      "outer loop :  8\n",
      "inner loop :  11\n",
      "inner loop :  6\n",
      "inner loop :  0\n",
      "inner loop :  8\n",
      "outer loop :  5\n",
      "inner loop :  11\n",
      "inner loop :  6\n",
      "inner loop :  0\n",
      "inner loop :  8\n",
      "outer loop :  0\n",
      "inner loop :  11\n",
      "inner loop :  6\n",
      "inner loop :  0\n",
      "inner loop :  8\n",
      "outer loop :  10\n",
      "inner loop :  8\n",
      "inner loop :  5\n",
      "inner loop :  0\n",
      "outer loop :  7\n",
      "inner loop :  8\n",
      "inner loop :  5\n",
      "inner loop :  0\n",
      "outer loop :  0\n",
      "inner loop :  8\n",
      "inner loop :  5\n",
      "inner loop :  0\n",
      "outer loop :  8\n",
      "inner loop :  10\n",
      "inner loop :  7\n",
      "inner loop :  0\n",
      "outer loop :  2\n",
      "inner loop :  10\n",
      "inner loop :  7\n",
      "inner loop :  0\n",
      "outer loop :  5\n",
      "inner loop :  10\n",
      "inner loop :  7\n",
      "inner loop :  0\n",
      "outer loop :  15\n",
      "inner loop :  8\n",
      "inner loop :  2\n",
      "inner loop :  5\n",
      "outer loop :  2\n",
      "inner loop :  8\n",
      "inner loop :  2\n",
      "inner loop :  5\n",
      "outer loop :  9\n",
      "inner loop :  8\n",
      "inner loop :  2\n",
      "inner loop :  5\n",
      "outer loop :  12\n",
      "inner loop :  8\n",
      "inner loop :  2\n",
      "inner loop :  5\n",
      "outer loop :  10\n",
      "inner loop :  15\n",
      "inner loop :  2\n",
      "inner loop :  9\n",
      "inner loop :  12\n",
      "outer loop :  0\n",
      "inner loop :  15\n",
      "inner loop :  2\n",
      "inner loop :  9\n",
      "inner loop :  12\n",
      "outer loop :  7\n",
      "inner loop :  15\n",
      "inner loop :  2\n",
      "inner loop :  9\n",
      "inner loop :  12\n",
      "outer loop :  11\n",
      "inner loop :  15\n",
      "inner loop :  2\n",
      "inner loop :  9\n",
      "inner loop :  12\n",
      "outer loop :  11\n",
      "inner loop :  10\n",
      "inner loop :  0\n",
      "inner loop :  7\n",
      "inner loop :  11\n",
      "outer loop :  1\n",
      "inner loop :  10\n",
      "inner loop :  0\n",
      "inner loop :  7\n",
      "inner loop :  11\n",
      "outer loop :  8\n",
      "inner loop :  10\n",
      "inner loop :  0\n",
      "inner loop :  7\n",
      "inner loop :  11\n",
      "outer loop :  11\n",
      "inner loop :  11\n",
      "inner loop :  1\n",
      "inner loop :  8\n",
      "outer loop :  8\n",
      "inner loop :  11\n",
      "inner loop :  1\n",
      "inner loop :  8\n",
      "outer loop :  3\n",
      "inner loop :  11\n",
      "inner loop :  1\n",
      "inner loop :  8\n"
     ]
    },
    {
     "data": {
      "text/html": [
       "<div>\n",
       "<style scoped>\n",
       "    .dataframe tbody tr th:only-of-type {\n",
       "        vertical-align: middle;\n",
       "    }\n",
       "\n",
       "    .dataframe tbody tr th {\n",
       "        vertical-align: top;\n",
       "    }\n",
       "\n",
       "    .dataframe thead th {\n",
       "        text-align: right;\n",
       "    }\n",
       "</style>\n",
       "<table border=\"1\" class=\"dataframe\">\n",
       "  <thead>\n",
       "    <tr style=\"text-align: right;\">\n",
       "      <th></th>\n",
       "      <th>raw_x</th>\n",
       "      <th>raw_y</th>\n",
       "      <th>width</th>\n",
       "      <th>height</th>\n",
       "    </tr>\n",
       "  </thead>\n",
       "  <tbody>\n",
       "    <tr>\n",
       "      <th>0</th>\n",
       "      <td>38.0</td>\n",
       "      <td>332.0</td>\n",
       "      <td>62</td>\n",
       "      <td>46</td>\n",
       "    </tr>\n",
       "    <tr>\n",
       "      <th>1</th>\n",
       "      <td>165.5</td>\n",
       "      <td>316.0</td>\n",
       "      <td>35</td>\n",
       "      <td>50</td>\n",
       "    </tr>\n",
       "    <tr>\n",
       "      <th>2</th>\n",
       "      <td>353.5</td>\n",
       "      <td>310.5</td>\n",
       "      <td>53</td>\n",
       "      <td>47</td>\n",
       "    </tr>\n",
       "    <tr>\n",
       "      <th>3</th>\n",
       "      <td>363.0</td>\n",
       "      <td>46.0</td>\n",
       "      <td>28</td>\n",
       "      <td>84</td>\n",
       "    </tr>\n",
       "    <tr>\n",
       "      <th>4</th>\n",
       "      <td>38.5</td>\n",
       "      <td>333.0</td>\n",
       "      <td>63</td>\n",
       "      <td>46</td>\n",
       "    </tr>\n",
       "    <tr>\n",
       "      <th>5</th>\n",
       "      <td>38.0</td>\n",
       "      <td>332.5</td>\n",
       "      <td>64</td>\n",
       "      <td>47</td>\n",
       "    </tr>\n",
       "    <tr>\n",
       "      <th>6</th>\n",
       "      <td>37.0</td>\n",
       "      <td>331.5</td>\n",
       "      <td>62</td>\n",
       "      <td>49</td>\n",
       "    </tr>\n",
       "    <tr>\n",
       "      <th>7</th>\n",
       "      <td>37.5</td>\n",
       "      <td>331.0</td>\n",
       "      <td>61</td>\n",
       "      <td>50</td>\n",
       "    </tr>\n",
       "    <tr>\n",
       "      <th>8</th>\n",
       "      <td>37.0</td>\n",
       "      <td>332.0</td>\n",
       "      <td>62</td>\n",
       "      <td>48</td>\n",
       "    </tr>\n",
       "    <tr>\n",
       "      <th>9</th>\n",
       "      <td>37.0</td>\n",
       "      <td>334.0</td>\n",
       "      <td>62</td>\n",
       "      <td>44</td>\n",
       "    </tr>\n",
       "    <tr>\n",
       "      <th>10</th>\n",
       "      <td>37.0</td>\n",
       "      <td>333.5</td>\n",
       "      <td>62</td>\n",
       "      <td>43</td>\n",
       "    </tr>\n",
       "    <tr>\n",
       "      <th>11</th>\n",
       "      <td>37.0</td>\n",
       "      <td>334.5</td>\n",
       "      <td>62</td>\n",
       "      <td>43</td>\n",
       "    </tr>\n",
       "    <tr>\n",
       "      <th>12</th>\n",
       "      <td>36.0</td>\n",
       "      <td>333.0</td>\n",
       "      <td>62</td>\n",
       "      <td>44</td>\n",
       "    </tr>\n",
       "  </tbody>\n",
       "</table>\n",
       "</div>"
      ],
      "text/plain": [
       "    raw_x  raw_y  width  height\n",
       "0    38.0  332.0     62      46\n",
       "1   165.5  316.0     35      50\n",
       "2   353.5  310.5     53      47\n",
       "3   363.0   46.0     28      84\n",
       "4    38.5  333.0     63      46\n",
       "5    38.0  332.5     64      47\n",
       "6    37.0  331.5     62      49\n",
       "7    37.5  331.0     61      50\n",
       "8    37.0  332.0     62      48\n",
       "9    37.0  334.0     62      44\n",
       "10   37.0  333.5     62      43\n",
       "11   37.0  334.5     62      43\n",
       "12   36.0  333.0     62      44"
      ]
     },
     "execution_count": 28,
     "metadata": {},
     "output_type": "execute_result"
    }
   ],
   "source": [
    "cnt = 0\n",
    "pboxes = []\n",
    "pindices = None\n",
    "for impath in cropimage:    \n",
    "    image = cv2.imread(impath)\n",
    "    image = cv2.resize(image,(416,416))\n",
    "    Width = image.shape[1]\n",
    "    Height = image.shape[0]\n",
    "    scale = 0.00392\n",
    "\n",
    "    # read class names from text file\n",
    "    \"\"\"classes = None\n",
    "    with open(args.classes, 'r') as f:\n",
    "        classes = [line.strip() for line in f.readlines()]\"\"\"\n",
    "\n",
    "    # generate different colors for different classes \n",
    "    COLORS = np.random.uniform(0, 255, size=(len(classes), 3))\n",
    "\n",
    "    # read pre-trained model and config file\n",
    "    net = cv2.dnn.readNet(weights, config)\n",
    "\n",
    "    # create input blob \n",
    "\n",
    "    blob = cv2.dnn.blobFromImage(image, scale, (416,416), (0,0,0), True, crop=False)\n",
    "\n",
    "    # set input blob for the network\n",
    "    net.setInput(blob)\n",
    "\n",
    "    net\n",
    "    layer_names = net.getLayerNames()\n",
    "\n",
    "    # run inference through the network\n",
    "    # and gather predictions from output layers\n",
    "    outs = net.forward(get_output_layers(net))\n",
    "\n",
    "    # initialization\n",
    "    class_ids = []\n",
    "    confidences = []\n",
    "    boxes = []\n",
    "    conf_threshold = 0.2\n",
    "    nms_threshold = 0.4\n",
    "\n",
    "    # for each detetion from each output layer \n",
    "    # get the confidence, class id, bounding box params\n",
    "    # and ignore weak detections (confidence < 0.5)\n",
    "    for out in outs:\n",
    "        for detection in out:\n",
    "            scores = detection[5:]\n",
    "            class_id = np.argmax(scores)\n",
    "            confidence = scores[class_id]\n",
    "            if confidence > 0.5:\n",
    "                center_x = int(detection[0] * Width)\n",
    "                center_y = int(detection[1] * Height)\n",
    "                w = int(detection[2] * Width)\n",
    "                h = int(detection[3] * Height)\n",
    "                x = center_x - w / 2\n",
    "                y = center_y - h / 2\n",
    "                class_ids.append(class_id)\n",
    "                confidences.append(float(confidence))\n",
    "                boxes.append([x, y, w, h])\n",
    "\n",
    "    indices = cv2.dnn.NMSBoxes(boxes, confidences, conf_threshold, nms_threshold)\n",
    "\n",
    "    # go through the detections remaining\n",
    "    # after nms and draw bounding box\n",
    "    for i in indices:\n",
    "        i = i[0]\n",
    "        box = boxes[i]\n",
    "        x = box[0]\n",
    "        y = box[1]\n",
    "        w = box[2]\n",
    "        h = box[3]\n",
    "        draw_bounding_box(image, class_ids[i], confidences[i], round(x), round(y), round(x+w), round(y+h))\n",
    "    #print(\"success \",cnt)\n",
    "    #cnt+=1    \n",
    "    if(cnt==0):\n",
    "        pboxes = boxes\n",
    "        pindices = indices\n",
    "        ginti = 0\n",
    "        for i in indices:\n",
    "            print(\"Zero Loop : \", i)\n",
    "            i = i[0]\n",
    "            box = boxes[i]\n",
    "            fish[func(ginti)]['raw_x'].append(box[0])\n",
    "            fish[func(ginti)]['raw_y'].append(box[1])\n",
    "            fish[func(ginti)]['width'].append(box[2])\n",
    "            fish[func(ginti)]['height'].append(box[3])\n",
    "    else:\n",
    "        for i in indices:\n",
    "            print(\"outer loop : \",i[0])\n",
    "            i = i[0]\n",
    "            box = boxes[i]\n",
    "            cx = box[0]\n",
    "            cy = box[1]\n",
    "            cw = box[2]\n",
    "            ch = box[3]\n",
    "            mindiff = 1e18\n",
    "            match = i\n",
    "            jagah = 0\n",
    "            choti_ginti = 0\n",
    "            for j in pindices:\n",
    "                print(\"inner loop : \",j[0])\n",
    "                j = j[0]\n",
    "                box2 = pboxes[j]\n",
    "                px = box2[0]\n",
    "                py = box2[1]\n",
    "                pw = box2[2]\n",
    "                ph = box2[3]\n",
    "                curdiff = abs(px-cx)+abs(py-cy)+(abs(ph*pw - ch*cw)/ph*pw)\n",
    "                if(curdiff<mindiff):\n",
    "                    mindiff = curdiff\n",
    "                    match = j\n",
    "                    jagah = choti_ginti\n",
    "                choti_ginti+=1\n",
    "            fish[func(jagah)]['raw_x'].append(cx)\n",
    "            fish[func(jagah)]['raw_y'].append(cy)\n",
    "            fish[func(jagah)]['width'].append(cw)\n",
    "            fish[func(jagah)]['height'].append(ch)\n",
    "        pindices = indices\n",
    "        pboxes = boxes\n",
    "    x = cnt\n",
    "    suffix = str(x).zfill(4)\n",
    "    #cv2.imwrite(\"C://Users//hp//Desktop//Research_intern_iitd/color_detected/{}.jpg\".format(suffix), image)\n",
    "    \n",
    "    cnt+=1\n",
    "    if(cnt==10):\n",
    "        break\n",
    "        \n",
    "df1 = pd.DataFrame(fish['fish1'])\n",
    "df1"
   ]
  }
 ],
 "metadata": {
  "kernelspec": {
   "display_name": "Python 3",
   "language": "python",
   "name": "python3"
  },
  "language_info": {
   "codemirror_mode": {
    "name": "ipython",
    "version": 3
   },
   "file_extension": ".py",
   "mimetype": "text/x-python",
   "name": "python",
   "nbconvert_exporter": "python",
   "pygments_lexer": "ipython3",
   "version": "3.7.6"
  }
 },
 "nbformat": 4,
 "nbformat_minor": 4
}
